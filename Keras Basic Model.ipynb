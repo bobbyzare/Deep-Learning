{
 "cells": [
  {
   "cell_type": "markdown",
   "id": "7479258a",
   "metadata": {},
   "source": [
    "# Keras Basics\n",
    "\n",
    "Welcome to the section on deep learning! We'll be using Keras with a TensorFlow backend to perform our deep learning operations.\n",
    "\n",
    "This means we should get familiar with some Keras fundamentals and basics!\n",
    "\n",
    "## Imports\n"
   ]
  },
  {
   "cell_type": "code",
   "execution_count": 34,
   "id": "b6472192",
   "metadata": {},
   "outputs": [],
   "source": [
    "import numpy as np\n",
    "from numpy import genfromtxt\n",
    "import warnings\n",
    "\n",
    "# Ignore all warnings (use with caution)\n",
    "warnings.filterwarnings(\"ignore\")"
   ]
  },
  {
   "cell_type": "markdown",
   "id": "83d63b14",
   "metadata": {},
   "source": [
    "## Dataset\n",
    "\n",
    "We will use the Bank Authentication Data Set to start off with. This data set consists of various image features derived from images that had 400 x 400 pixels. You should note **the data itself that we will be using ARE NOT ACTUAL IMAGES**, they are **features** of images. In the next lecture we will cover grabbing and working with image data with Keras. This notebook focuses on learning the basics of building a neural network with Keras.\n",
    "\n",
    "_____\n",
    "More info on the data set:\n",
    "\n",
    "https://archive.ics.uci.edu/ml/datasets/banknote+authentication\n",
    "\n",
    "Data were extracted from images that were taken from genuine and forged banknote-like specimens. For digitization, an industrial camera usually used for print inspection was used. The final images have 400x 400 pixels. Due to the object lens and distance to the investigated object gray-scale pictures with a resolution of about 660 dpi were gained. Wavelet Transform tool were used to extract features from images.\n",
    "\n",
    "\n",
    "Attribute Information:\n",
    "\n",
    "1. variance of Wavelet Transformed image (continuous) \n",
    "2. skewness of Wavelet Transformed image (continuous) \n",
    "3. curtosis of Wavelet Transformed image (continuous) \n",
    "4. entropy of image (continuous) \n",
    "5. class (integer) \n",
    "\n",
    "## Reading in the Data Set\n",
    "\n",
    "We've already downloaded the dataset, its in the DATA folder. So let's open it up. "
   ]
  },
  {
   "cell_type": "code",
   "execution_count": 35,
   "id": "9a57e1f0",
   "metadata": {},
   "outputs": [],
   "source": [
    "import numpy as np\n",
    "from numpy import genfromtxt"
   ]
  },
  {
   "cell_type": "code",
   "execution_count": 36,
   "id": "28220941",
   "metadata": {},
   "outputs": [],
   "source": [
    "data = genfromtxt(\"C:/Users/bobby/Downloads/Computer-Vision-with-Python/DATA/bank_note_data.txt\",delimiter=\",\")"
   ]
  },
  {
   "cell_type": "code",
   "execution_count": 37,
   "id": "7b5befe3",
   "metadata": {},
   "outputs": [
    {
     "data": {
      "text/plain": [
       "array([[  3.6216 ,   8.6661 ,  -2.8073 ,  -0.44699,   0.     ],\n",
       "       [  4.5459 ,   8.1674 ,  -2.4586 ,  -1.4621 ,   0.     ],\n",
       "       [  3.866  ,  -2.6383 ,   1.9242 ,   0.10645,   0.     ],\n",
       "       ...,\n",
       "       [ -3.7503 , -13.4586 ,  17.5932 ,  -2.7771 ,   1.     ],\n",
       "       [ -3.5637 ,  -8.3827 ,  12.393  ,  -1.2823 ,   1.     ],\n",
       "       [ -2.5419 ,  -0.65804,   2.6842 ,   1.1952 ,   1.     ]])"
      ]
     },
     "execution_count": 37,
     "metadata": {},
     "output_type": "execute_result"
    }
   ],
   "source": [
    "data"
   ]
  },
  {
   "cell_type": "code",
   "execution_count": 38,
   "id": "0b69c552",
   "metadata": {},
   "outputs": [],
   "source": [
    "labels = data[:,4] ### this are my classes "
   ]
  },
  {
   "cell_type": "code",
   "execution_count": 39,
   "id": "a17c8142",
   "metadata": {},
   "outputs": [
    {
     "data": {
      "text/plain": [
       "array([0., 0., 0., ..., 1., 1., 1.])"
      ]
     },
     "execution_count": 39,
     "metadata": {},
     "output_type": "execute_result"
    }
   ],
   "source": [
    "labels"
   ]
  },
  {
   "cell_type": "code",
   "execution_count": 40,
   "id": "ef92fa47",
   "metadata": {},
   "outputs": [],
   "source": [
    "features = data[:,0:4] ##this are my features"
   ]
  },
  {
   "cell_type": "code",
   "execution_count": 41,
   "id": "dc82750f",
   "metadata": {},
   "outputs": [
    {
     "data": {
      "text/plain": [
       "array([[  3.6216 ,   8.6661 ,  -2.8073 ,  -0.44699],\n",
       "       [  4.5459 ,   8.1674 ,  -2.4586 ,  -1.4621 ],\n",
       "       [  3.866  ,  -2.6383 ,   1.9242 ,   0.10645],\n",
       "       ...,\n",
       "       [ -3.7503 , -13.4586 ,  17.5932 ,  -2.7771 ],\n",
       "       [ -3.5637 ,  -8.3827 ,  12.393  ,  -1.2823 ],\n",
       "       [ -2.5419 ,  -0.65804,   2.6842 ,   1.1952 ]])"
      ]
     },
     "execution_count": 41,
     "metadata": {},
     "output_type": "execute_result"
    }
   ],
   "source": [
    "features"
   ]
  },
  {
   "cell_type": "code",
   "execution_count": 42,
   "id": "45e915ea",
   "metadata": {},
   "outputs": [],
   "source": [
    "X = features\n",
    "y = labels"
   ]
  },
  {
   "cell_type": "markdown",
   "id": "42a15a53",
   "metadata": {},
   "source": [
    "## Split the Data into Training and Test\n",
    "\n",
    "Its time to split the data into a train/test set. Keep in mind, sometimes people like to split 3 ways, train/test/validation. We'll keep things simple for now. **Remember to check out the video explanation as to why we split and what all the parameters mean!**"
   ]
  },
  {
   "cell_type": "code",
   "execution_count": 43,
   "id": "cb8195a8",
   "metadata": {},
   "outputs": [],
   "source": [
    "### for splititng the training and test model\n",
    "from sklearn.model_selection import train_test_split"
   ]
  },
  {
   "cell_type": "code",
   "execution_count": 44,
   "id": "5e07bda2",
   "metadata": {},
   "outputs": [],
   "source": [
    "X_train, X_test, y_train, y_test = train_test_split(X, y, test_size=0.33, random_state=42)"
   ]
  },
  {
   "cell_type": "code",
   "execution_count": 45,
   "id": "3713069d",
   "metadata": {},
   "outputs": [
    {
     "data": {
      "text/plain": [
       "919"
      ]
     },
     "execution_count": 45,
     "metadata": {},
     "output_type": "execute_result"
    }
   ],
   "source": [
    "len(X_train)"
   ]
  },
  {
   "cell_type": "code",
   "execution_count": 46,
   "id": "2246ca8d",
   "metadata": {},
   "outputs": [
    {
     "data": {
      "text/plain": [
       "1372"
      ]
     },
     "execution_count": 46,
     "metadata": {},
     "output_type": "execute_result"
    }
   ],
   "source": [
    "len(X)"
   ]
  },
  {
   "cell_type": "code",
   "execution_count": 47,
   "id": "7a0d8d48",
   "metadata": {},
   "outputs": [
    {
     "data": {
      "text/plain": [
       "453"
      ]
     },
     "execution_count": 47,
     "metadata": {},
     "output_type": "execute_result"
    }
   ],
   "source": [
    "len(X_test)"
   ]
  },
  {
   "cell_type": "code",
   "execution_count": 48,
   "id": "34b8ec24",
   "metadata": {},
   "outputs": [
    {
     "data": {
      "text/plain": [
       "array([[ 1.5691  ,  6.3465  , -0.1828  , -2.4099  ],\n",
       "       [-0.27802 ,  8.1881  , -3.1338  , -2.5276  ],\n",
       "       [ 0.051979,  7.0521  , -2.0541  , -3.1508  ],\n",
       "       ...,\n",
       "       [ 3.5127  ,  2.9073  ,  1.0579  ,  0.40774 ],\n",
       "       [ 5.504   , 10.3671  , -4.413   , -4.0211  ],\n",
       "       [-0.2062  ,  9.2207  , -3.7044  , -6.8103  ]])"
      ]
     },
     "execution_count": 48,
     "metadata": {},
     "output_type": "execute_result"
    }
   ],
   "source": [
    "X_test"
   ]
  },
  {
   "cell_type": "code",
   "execution_count": 49,
   "id": "165a4d58",
   "metadata": {},
   "outputs": [
    {
     "data": {
      "text/plain": [
       "919"
      ]
     },
     "execution_count": 49,
     "metadata": {},
     "output_type": "execute_result"
    }
   ],
   "source": [
    "len(y_train)"
   ]
  },
  {
   "cell_type": "code",
   "execution_count": 50,
   "id": "efba5e26",
   "metadata": {},
   "outputs": [
    {
     "data": {
      "text/plain": [
       "453"
      ]
     },
     "execution_count": 50,
     "metadata": {},
     "output_type": "execute_result"
    }
   ],
   "source": [
    "len(y_test)"
   ]
  },
  {
   "cell_type": "code",
   "execution_count": 51,
   "id": "18edac47",
   "metadata": {},
   "outputs": [
    {
     "data": {
      "text/plain": [
       "array([1., 1., 0., 1., 0., 0., 1., 0., 0., 1., 0., 0., 0., 1., 1., 1., 0.,\n",
       "       1., 1., 1., 0., 1., 1., 1., 0., 1., 0., 0., 1., 0., 0., 0., 1., 0.,\n",
       "       1., 0., 0., 0., 0., 1., 1., 0., 0., 1., 0., 0., 1., 1., 1., 0., 0.,\n",
       "       0., 1., 1., 1., 1., 1., 1., 1., 0., 0., 0., 0., 0., 0., 1., 0., 1.,\n",
       "       0., 0., 0., 0., 1., 1., 0., 1., 1., 0., 1., 0., 1., 1., 1., 1., 1.,\n",
       "       1., 1., 1., 1., 1., 1., 0., 1., 0., 0., 0., 0., 1., 1., 1., 0., 0.,\n",
       "       0., 1., 0., 1., 1., 1., 1., 0., 0., 0., 0., 0., 0., 0., 0., 0., 0.,\n",
       "       0., 0., 0., 1., 1., 0., 1., 0., 1., 0., 0., 0., 0., 0., 1., 1., 0.,\n",
       "       0., 0., 0., 0., 0., 0., 0., 0., 0., 0., 1., 1., 0., 1., 0., 0., 1.,\n",
       "       1., 0., 1., 0., 0., 1., 0., 1., 1., 0., 0., 0., 0., 0., 0., 1., 0.,\n",
       "       0., 0., 1., 1., 0., 1., 1., 1., 1., 1., 0., 1., 1., 0., 0., 1., 1.,\n",
       "       0., 1., 1., 0., 1., 1., 0., 0., 0., 0., 1., 0., 0., 1., 0., 1., 0.,\n",
       "       0., 1., 0., 0., 1., 1., 0., 0., 1., 1., 0., 1., 1., 1., 0., 0., 0.,\n",
       "       1., 0., 0., 1., 0., 0., 0., 1., 0., 0., 1., 0., 1., 0., 0., 0., 0.,\n",
       "       0., 1., 1., 0., 0., 1., 0., 0., 1., 0., 0., 1., 0., 1., 1., 1., 0.,\n",
       "       1., 0., 0., 0., 1., 0., 0., 1., 1., 1., 0., 1., 0., 1., 1., 0., 0.,\n",
       "       1., 1., 1., 1., 0., 0., 1., 0., 1., 0., 1., 0., 0., 0., 1., 0., 1.,\n",
       "       1., 0., 0., 1., 0., 1., 0., 1., 0., 1., 0., 0., 0., 0., 1., 0., 1.,\n",
       "       1., 1., 1., 1., 1., 0., 0., 0., 1., 0., 0., 0., 1., 0., 1., 0., 0.,\n",
       "       0., 0., 0., 1., 0., 1., 1., 0., 1., 0., 0., 1., 0., 0., 0., 0., 0.,\n",
       "       0., 1., 1., 1., 0., 1., 0., 0., 0., 1., 1., 0., 0., 1., 0., 1., 0.,\n",
       "       0., 0., 0., 0., 0., 1., 1., 1., 0., 0., 0., 0., 0., 0., 1., 1., 1.,\n",
       "       0., 0., 0., 1., 1., 1., 1., 0., 0., 1., 0., 0., 0., 1., 0., 0., 1.,\n",
       "       0., 0., 0., 1., 0., 0., 1., 1., 0., 1., 0., 0., 0., 1., 1., 0., 1.,\n",
       "       0., 0., 1., 0., 0., 1., 0., 1., 1., 0., 1., 0., 0., 0., 0., 1., 0.,\n",
       "       0., 0., 1., 0., 0., 0., 0., 0., 1., 1., 0., 1., 0., 0., 0., 0., 0.,\n",
       "       0., 1., 0., 1., 1., 1., 0., 0., 1., 1., 1., 1., 0., 0., 1., 0., 0.,\n",
       "       1., 0., 0., 0., 1., 0., 1., 0., 0., 0., 1., 0., 0., 1., 1., 1., 1.,\n",
       "       0., 1., 1., 0., 1., 0., 1., 0., 0., 0., 1., 0., 1., 1., 1., 1., 0.,\n",
       "       0., 1., 0., 1., 0., 0., 0., 0., 0., 0., 1., 1., 0., 1., 0., 0., 1.,\n",
       "       0., 1., 0., 1., 1., 1., 0., 1., 0., 1., 1., 0., 0., 0., 0., 1., 0.,\n",
       "       0., 1., 1., 1., 1., 0., 0., 0., 0., 0., 1., 1., 0., 0., 1., 0., 0.,\n",
       "       0., 1., 1., 0., 0., 0., 1., 1., 1., 1., 0., 1., 1., 0., 0., 0., 1.,\n",
       "       1., 0., 0., 1., 1., 0., 0., 1., 0., 0., 0., 0., 0., 0., 1., 1., 1.,\n",
       "       0., 1., 1., 1., 1., 0., 1., 0., 1., 1., 0., 1., 1., 1., 0., 1., 0.,\n",
       "       0., 0., 0., 1., 0., 1., 0., 1., 0., 0., 0., 0., 0., 0., 0., 1., 1.,\n",
       "       1., 0., 1., 0., 0., 1., 0., 1., 0., 0., 1., 1., 0., 0., 0., 1., 0.,\n",
       "       0., 1., 1., 1., 0., 1., 1., 0., 0., 0., 0., 1., 1., 1., 0., 1., 0.,\n",
       "       0., 0., 1., 0., 0., 1., 1., 1., 1., 1., 0., 1., 0., 0., 0., 1., 0.,\n",
       "       0., 0., 1., 0., 1., 1., 0., 1., 0., 1., 1., 1., 1., 0., 1., 1., 1.,\n",
       "       1., 1., 0., 1., 0., 1., 1., 0., 0., 1., 0., 0., 0., 0., 1., 1., 0.,\n",
       "       1., 1., 0., 0., 1., 1., 1., 1., 0., 0., 1., 0., 0., 0., 0., 1., 1.,\n",
       "       0., 1., 0., 1., 0., 0., 1., 1., 0., 0., 0., 1., 0., 0., 0., 1., 0.,\n",
       "       1., 0., 0., 1., 0., 0., 0., 1., 0., 1., 1., 1., 0., 1., 0., 0., 0.,\n",
       "       0., 0., 1., 1., 1., 1., 0., 1., 0., 1., 0., 0., 0., 1., 0., 0., 1.,\n",
       "       1., 1., 0., 1., 0., 0., 0., 1., 1., 0., 1., 0., 1., 0., 1., 0., 0.,\n",
       "       1., 0., 0., 1., 1., 1., 0., 0., 1., 1., 0., 1., 1., 1., 1., 0., 0.,\n",
       "       1., 0., 0., 0., 1., 0., 0., 1., 1., 1., 1., 0., 0., 1., 0., 1., 0.,\n",
       "       0., 0., 0., 0., 0., 1., 1., 0., 1., 0., 0., 0., 1., 1., 0., 0., 0.,\n",
       "       1., 0., 1., 1., 1., 0., 0., 0., 1., 1., 0., 1., 1., 0., 1., 0., 0.,\n",
       "       0., 0., 0., 1., 0., 1., 1., 1., 0., 0., 1., 0., 1., 0., 1., 0., 1.,\n",
       "       0., 0., 0., 0., 0., 1., 0., 1., 0., 0., 1., 1., 1., 0., 1., 0., 1.,\n",
       "       0., 1., 0., 0., 1., 0., 1., 0., 0., 0., 1., 0., 1., 0., 1., 1., 0.,\n",
       "       1., 0., 1., 1., 0., 1., 1., 0., 0., 1., 0., 0., 1., 1., 1., 1., 1.,\n",
       "       1.])"
      ]
     },
     "execution_count": 51,
     "metadata": {},
     "output_type": "execute_result"
    }
   ],
   "source": [
    "y_train"
   ]
  },
  {
   "cell_type": "code",
   "execution_count": 52,
   "id": "685afae7",
   "metadata": {},
   "outputs": [
    {
     "data": {
      "text/plain": [
       "array([0., 0., 0., 0., 0., 0., 0., 0., 0., 0., 1., 1., 0., 1., 0., 1., 1.,\n",
       "       1., 1., 1., 0., 0., 1., 0., 1., 0., 0., 1., 0., 0., 1., 0., 0., 1.,\n",
       "       1., 0., 1., 1., 1., 0., 0., 1., 1., 0., 1., 1., 1., 0., 0., 1., 0.,\n",
       "       0., 0., 0., 0., 1., 0., 0., 0., 0., 1., 0., 1., 0., 0., 0., 0., 0.,\n",
       "       0., 1., 1., 0., 1., 0., 1., 0., 0., 1., 1., 1., 1., 0., 1., 0., 0.,\n",
       "       0., 0., 1., 1., 0., 0., 0., 1., 1., 0., 1., 1., 0., 0., 0., 1., 0.,\n",
       "       0., 0., 1., 0., 0., 1., 1., 1., 1., 1., 0., 1., 1., 1., 0., 1., 1.,\n",
       "       0., 1., 0., 1., 0., 1., 0., 1., 1., 0., 1., 1., 0., 0., 0., 0., 0.,\n",
       "       1., 0., 0., 0., 0., 0., 1., 0., 1., 1., 1., 1., 1., 0., 1., 1., 1.,\n",
       "       0., 1., 0., 1., 0., 0., 0., 1., 1., 1., 1., 1., 0., 1., 0., 0., 0.,\n",
       "       0., 0., 0., 1., 0., 0., 1., 1., 0., 0., 0., 0., 1., 0., 1., 0., 1.,\n",
       "       1., 0., 0., 1., 0., 0., 1., 1., 1., 1., 0., 0., 1., 1., 1., 0., 0.,\n",
       "       1., 1., 1., 1., 0., 0., 0., 0., 0., 0., 0., 0., 0., 0., 1., 1., 1.,\n",
       "       1., 1., 0., 1., 0., 0., 1., 1., 1., 1., 0., 1., 0., 1., 1., 1., 1.,\n",
       "       0., 0., 0., 1., 0., 1., 1., 1., 0., 0., 0., 0., 0., 0., 1., 0., 1.,\n",
       "       0., 0., 0., 1., 1., 0., 0., 0., 1., 1., 0., 1., 0., 1., 1., 1., 1.,\n",
       "       0., 0., 0., 0., 0., 1., 0., 0., 1., 0., 1., 0., 0., 1., 0., 0., 0.,\n",
       "       0., 0., 1., 1., 0., 1., 0., 1., 1., 0., 0., 0., 0., 0., 0., 0., 1.,\n",
       "       1., 1., 0., 0., 1., 1., 0., 0., 0., 0., 0., 0., 1., 0., 1., 1., 1.,\n",
       "       0., 0., 0., 0., 1., 0., 0., 0., 0., 0., 0., 0., 1., 0., 1., 1., 1.,\n",
       "       1., 0., 1., 1., 0., 1., 1., 0., 0., 1., 0., 0., 1., 0., 1., 0., 1.,\n",
       "       1., 0., 0., 1., 0., 0., 0., 0., 0., 0., 1., 0., 0., 1., 0., 0., 0.,\n",
       "       0., 1., 1., 0., 1., 0., 1., 1., 1., 0., 1., 1., 0., 1., 1., 0., 1.,\n",
       "       0., 0., 0., 1., 1., 1., 0., 0., 0., 0., 1., 0., 0., 1., 1., 1., 1.,\n",
       "       0., 1., 0., 0., 1., 1., 0., 1., 0., 1., 0., 0., 0., 1., 1., 0., 0.,\n",
       "       0., 1., 0., 0., 1., 0., 0., 0., 0., 1., 0., 1., 0., 0., 1., 0., 0.,\n",
       "       0., 0., 0., 0., 1., 1., 0., 0., 0., 0., 0.])"
      ]
     },
     "execution_count": 52,
     "metadata": {},
     "output_type": "execute_result"
    }
   ],
   "source": [
    "y_test"
   ]
  },
  {
   "cell_type": "markdown",
   "id": "e6b37031",
   "metadata": {},
   "source": [
    "## Standardizing the Data\n",
    "\n",
    "Usually when using Neural Networks, you will get better performance when you standardize the data. Standardization just means normalizing the values to all fit between a certain range, like 0-1, or -1 to 1.\n",
    "\n",
    "The scikit learn library also provides a nice function for this.\n",
    "\n",
    "http://scikit-learn.org/stable/modules/generated/sklearn.preprocessing.MinMaxScaler.html"
   ]
  },
  {
   "cell_type": "code",
   "execution_count": 53,
   "id": "6c77dd92",
   "metadata": {},
   "outputs": [],
   "source": [
    "## standardization of data\n",
    "\n",
    "from sklearn.preprocessing import MinMaxScaler"
   ]
  },
  {
   "cell_type": "code",
   "execution_count": 54,
   "id": "94513ab0",
   "metadata": {},
   "outputs": [],
   "source": [
    "scaler_object =  MinMaxScaler()"
   ]
  },
  {
   "cell_type": "code",
   "execution_count": 55,
   "id": "80ed2248",
   "metadata": {},
   "outputs": [
    {
     "data": {
      "text/html": [
       "<style>#sk-container-id-2 {color: black;}#sk-container-id-2 pre{padding: 0;}#sk-container-id-2 div.sk-toggleable {background-color: white;}#sk-container-id-2 label.sk-toggleable__label {cursor: pointer;display: block;width: 100%;margin-bottom: 0;padding: 0.3em;box-sizing: border-box;text-align: center;}#sk-container-id-2 label.sk-toggleable__label-arrow:before {content: \"▸\";float: left;margin-right: 0.25em;color: #696969;}#sk-container-id-2 label.sk-toggleable__label-arrow:hover:before {color: black;}#sk-container-id-2 div.sk-estimator:hover label.sk-toggleable__label-arrow:before {color: black;}#sk-container-id-2 div.sk-toggleable__content {max-height: 0;max-width: 0;overflow: hidden;text-align: left;background-color: #f0f8ff;}#sk-container-id-2 div.sk-toggleable__content pre {margin: 0.2em;color: black;border-radius: 0.25em;background-color: #f0f8ff;}#sk-container-id-2 input.sk-toggleable__control:checked~div.sk-toggleable__content {max-height: 200px;max-width: 100%;overflow: auto;}#sk-container-id-2 input.sk-toggleable__control:checked~label.sk-toggleable__label-arrow:before {content: \"▾\";}#sk-container-id-2 div.sk-estimator input.sk-toggleable__control:checked~label.sk-toggleable__label {background-color: #d4ebff;}#sk-container-id-2 div.sk-label input.sk-toggleable__control:checked~label.sk-toggleable__label {background-color: #d4ebff;}#sk-container-id-2 input.sk-hidden--visually {border: 0;clip: rect(1px 1px 1px 1px);clip: rect(1px, 1px, 1px, 1px);height: 1px;margin: -1px;overflow: hidden;padding: 0;position: absolute;width: 1px;}#sk-container-id-2 div.sk-estimator {font-family: monospace;background-color: #f0f8ff;border: 1px dotted black;border-radius: 0.25em;box-sizing: border-box;margin-bottom: 0.5em;}#sk-container-id-2 div.sk-estimator:hover {background-color: #d4ebff;}#sk-container-id-2 div.sk-parallel-item::after {content: \"\";width: 100%;border-bottom: 1px solid gray;flex-grow: 1;}#sk-container-id-2 div.sk-label:hover label.sk-toggleable__label {background-color: #d4ebff;}#sk-container-id-2 div.sk-serial::before {content: \"\";position: absolute;border-left: 1px solid gray;box-sizing: border-box;top: 0;bottom: 0;left: 50%;z-index: 0;}#sk-container-id-2 div.sk-serial {display: flex;flex-direction: column;align-items: center;background-color: white;padding-right: 0.2em;padding-left: 0.2em;position: relative;}#sk-container-id-2 div.sk-item {position: relative;z-index: 1;}#sk-container-id-2 div.sk-parallel {display: flex;align-items: stretch;justify-content: center;background-color: white;position: relative;}#sk-container-id-2 div.sk-item::before, #sk-container-id-2 div.sk-parallel-item::before {content: \"\";position: absolute;border-left: 1px solid gray;box-sizing: border-box;top: 0;bottom: 0;left: 50%;z-index: -1;}#sk-container-id-2 div.sk-parallel-item {display: flex;flex-direction: column;z-index: 1;position: relative;background-color: white;}#sk-container-id-2 div.sk-parallel-item:first-child::after {align-self: flex-end;width: 50%;}#sk-container-id-2 div.sk-parallel-item:last-child::after {align-self: flex-start;width: 50%;}#sk-container-id-2 div.sk-parallel-item:only-child::after {width: 0;}#sk-container-id-2 div.sk-dashed-wrapped {border: 1px dashed gray;margin: 0 0.4em 0.5em 0.4em;box-sizing: border-box;padding-bottom: 0.4em;background-color: white;}#sk-container-id-2 div.sk-label label {font-family: monospace;font-weight: bold;display: inline-block;line-height: 1.2em;}#sk-container-id-2 div.sk-label-container {text-align: center;}#sk-container-id-2 div.sk-container {/* jupyter's `normalize.less` sets `[hidden] { display: none; }` but bootstrap.min.css set `[hidden] { display: none !important; }` so we also need the `!important` here to be able to override the default hidden behavior on the sphinx rendered scikit-learn.org. See: https://github.com/scikit-learn/scikit-learn/issues/21755 */display: inline-block !important;position: relative;}#sk-container-id-2 div.sk-text-repr-fallback {display: none;}</style><div id=\"sk-container-id-2\" class=\"sk-top-container\"><div class=\"sk-text-repr-fallback\"><pre>MinMaxScaler()</pre><b>In a Jupyter environment, please rerun this cell to show the HTML representation or trust the notebook. <br />On GitHub, the HTML representation is unable to render, please try loading this page with nbviewer.org.</b></div><div class=\"sk-container\" hidden><div class=\"sk-item\"><div class=\"sk-estimator sk-toggleable\"><input class=\"sk-toggleable__control sk-hidden--visually\" id=\"sk-estimator-id-2\" type=\"checkbox\" checked><label for=\"sk-estimator-id-2\" class=\"sk-toggleable__label sk-toggleable__label-arrow\">MinMaxScaler</label><div class=\"sk-toggleable__content\"><pre>MinMaxScaler()</pre></div></div></div></div></div>"
      ],
      "text/plain": [
       "MinMaxScaler()"
      ]
     },
     "execution_count": 55,
     "metadata": {},
     "output_type": "execute_result"
    }
   ],
   "source": [
    "scaler_object.fit(X_train)"
   ]
  },
  {
   "cell_type": "code",
   "execution_count": 56,
   "id": "b4222243",
   "metadata": {},
   "outputs": [],
   "source": [
    "scaled_X_train = scaler_object.transform(X_train)"
   ]
  },
  {
   "cell_type": "code",
   "execution_count": 57,
   "id": "7a5f460e",
   "metadata": {},
   "outputs": [],
   "source": [
    "scaled_X_test = scaler_object.transform(X_test)"
   ]
  },
  {
   "cell_type": "code",
   "execution_count": 58,
   "id": "8d15e6f7",
   "metadata": {},
   "outputs": [
    {
     "data": {
      "text/plain": [
       "1.0000000000000002"
      ]
     },
     "execution_count": 58,
     "metadata": {},
     "output_type": "execute_result"
    }
   ],
   "source": [
    "scaled_X_train.max()"
   ]
  },
  {
   "cell_type": "code",
   "execution_count": 59,
   "id": "6d707f90",
   "metadata": {},
   "outputs": [
    {
     "data": {
      "text/plain": [
       "0.0"
      ]
     },
     "execution_count": 59,
     "metadata": {},
     "output_type": "execute_result"
    }
   ],
   "source": [
    "scaled_X_train.min()"
   ]
  },
  {
   "cell_type": "markdown",
   "id": "15492904",
   "metadata": {},
   "source": [
    "## Building the Network with Keras\n",
    "\n",
    "Let's build a simple neural network!"
   ]
  },
  {
   "cell_type": "code",
   "execution_count": 60,
   "id": "27fe4a97",
   "metadata": {},
   "outputs": [],
   "source": [
    "### building a simple network with keras\n",
    "from keras.models import Sequential\n",
    "from keras.layers import Dense"
   ]
  },
  {
   "cell_type": "code",
   "execution_count": 61,
   "id": "03e64b83",
   "metadata": {},
   "outputs": [],
   "source": [
    "## creats model\n",
    "model = Sequential()\n",
    "\n",
    "\n",
    "\n",
    "## adds layers\n",
    "## input layer\n",
    "model.add(Dense(4,input_dim=4,activation=\"relu\"))\n",
    "\n",
    "##hidden layer\n",
    "model.add(Dense(8,activation=\"relu\"))\n",
    "\n",
    "## output layer\n",
    "model.add(Dense(1,activation=\"sigmoid\"))"
   ]
  },
  {
   "cell_type": "markdown",
   "id": "acf3de72",
   "metadata": {},
   "source": [
    "### Compile Model"
   ]
  },
  {
   "cell_type": "code",
   "execution_count": 62,
   "id": "ecd0c61a",
   "metadata": {},
   "outputs": [],
   "source": [
    "### compile the model\n",
    "model.compile(loss=\"binary_crossentropy\",optimizer=\"adam\",metrics=[\"accuracy\"])"
   ]
  },
  {
   "cell_type": "markdown",
   "id": "b6b2cbd1",
   "metadata": {},
   "source": [
    "## Fit (Train) the Model"
   ]
  },
  {
   "cell_type": "code",
   "execution_count": 65,
   "id": "56bbdc19",
   "metadata": {},
   "outputs": [
    {
     "name": "stdout",
     "output_type": "stream",
     "text": [
      "Epoch 1/80\n",
      "29/29 - 0s - loss: 0.0321 - accuracy: 0.9848 - 28ms/epoch - 967us/step\n",
      "Epoch 2/80\n",
      "29/29 - 0s - loss: 0.0336 - accuracy: 0.9859 - 25ms/epoch - 878us/step\n",
      "Epoch 3/80\n",
      "29/29 - 0s - loss: 0.0321 - accuracy: 0.9880 - 23ms/epoch - 796us/step\n",
      "Epoch 4/80\n",
      "29/29 - 0s - loss: 0.0317 - accuracy: 0.9837 - 28ms/epoch - 955us/step\n",
      "Epoch 5/80\n",
      "29/29 - 0s - loss: 0.0316 - accuracy: 0.9837 - 24ms/epoch - 838us/step\n",
      "Epoch 6/80\n",
      "29/29 - 0s - loss: 0.0312 - accuracy: 0.9902 - 28ms/epoch - 956us/step\n",
      "Epoch 7/80\n",
      "29/29 - 0s - loss: 0.0318 - accuracy: 0.9837 - 28ms/epoch - 975us/step\n",
      "Epoch 8/80\n",
      "29/29 - 0s - loss: 0.0309 - accuracy: 0.9913 - 28ms/epoch - 975us/step\n",
      "Epoch 9/80\n",
      "29/29 - 0s - loss: 0.0310 - accuracy: 0.9902 - 29ms/epoch - 989us/step\n",
      "Epoch 10/80\n",
      "29/29 - 0s - loss: 0.0315 - accuracy: 0.9837 - 30ms/epoch - 1ms/step\n",
      "Epoch 11/80\n",
      "29/29 - 0s - loss: 0.0307 - accuracy: 0.9880 - 27ms/epoch - 926us/step\n",
      "Epoch 12/80\n",
      "29/29 - 0s - loss: 0.0304 - accuracy: 0.9837 - 27ms/epoch - 928us/step\n",
      "Epoch 13/80\n",
      "29/29 - 0s - loss: 0.0309 - accuracy: 0.9880 - 24ms/epoch - 841us/step\n",
      "Epoch 14/80\n",
      "29/29 - 0s - loss: 0.0309 - accuracy: 0.9880 - 27ms/epoch - 921us/step\n",
      "Epoch 15/80\n",
      "29/29 - 0s - loss: 0.0310 - accuracy: 0.9826 - 25ms/epoch - 849us/step\n",
      "Epoch 16/80\n",
      "29/29 - 0s - loss: 0.0298 - accuracy: 0.9891 - 25ms/epoch - 867us/step\n",
      "Epoch 17/80\n",
      "29/29 - 0s - loss: 0.0303 - accuracy: 0.9891 - 24ms/epoch - 844us/step\n",
      "Epoch 18/80\n",
      "29/29 - 0s - loss: 0.0294 - accuracy: 0.9913 - 24ms/epoch - 830us/step\n",
      "Epoch 19/80\n",
      "29/29 - 0s - loss: 0.0296 - accuracy: 0.9880 - 26ms/epoch - 913us/step\n",
      "Epoch 20/80\n",
      "29/29 - 0s - loss: 0.0295 - accuracy: 0.9891 - 24ms/epoch - 826us/step\n",
      "Epoch 21/80\n",
      "29/29 - 0s - loss: 0.0295 - accuracy: 0.9902 - 26ms/epoch - 896us/step\n",
      "Epoch 22/80\n",
      "29/29 - 0s - loss: 0.0294 - accuracy: 0.9880 - 25ms/epoch - 860us/step\n",
      "Epoch 23/80\n",
      "29/29 - 0s - loss: 0.0290 - accuracy: 0.9891 - 24ms/epoch - 833us/step\n",
      "Epoch 24/80\n",
      "29/29 - 0s - loss: 0.0292 - accuracy: 0.9891 - 25ms/epoch - 868us/step\n",
      "Epoch 25/80\n",
      "29/29 - 0s - loss: 0.0302 - accuracy: 0.9848 - 24ms/epoch - 839us/step\n",
      "Epoch 26/80\n",
      "29/29 - 0s - loss: 0.0290 - accuracy: 0.9880 - 26ms/epoch - 910us/step\n",
      "Epoch 27/80\n",
      "29/29 - 0s - loss: 0.0289 - accuracy: 0.9880 - 25ms/epoch - 864us/step\n",
      "Epoch 28/80\n",
      "29/29 - 0s - loss: 0.0285 - accuracy: 0.9902 - 25ms/epoch - 865us/step\n",
      "Epoch 29/80\n",
      "29/29 - 0s - loss: 0.0297 - accuracy: 0.9837 - 23ms/epoch - 808us/step\n",
      "Epoch 30/80\n",
      "29/29 - 0s - loss: 0.0295 - accuracy: 0.9891 - 27ms/epoch - 927us/step\n",
      "Epoch 31/80\n",
      "29/29 - 0s - loss: 0.0290 - accuracy: 0.9902 - 25ms/epoch - 871us/step\n",
      "Epoch 32/80\n",
      "29/29 - 0s - loss: 0.0290 - accuracy: 0.9902 - 27ms/epoch - 920us/step\n",
      "Epoch 33/80\n",
      "29/29 - 0s - loss: 0.0288 - accuracy: 0.9880 - 26ms/epoch - 896us/step\n",
      "Epoch 34/80\n",
      "29/29 - 0s - loss: 0.0281 - accuracy: 0.9902 - 25ms/epoch - 857us/step\n",
      "Epoch 35/80\n",
      "29/29 - 0s - loss: 0.0283 - accuracy: 0.9880 - 25ms/epoch - 860us/step\n",
      "Epoch 36/80\n",
      "29/29 - 0s - loss: 0.0284 - accuracy: 0.9880 - 26ms/epoch - 889us/step\n",
      "Epoch 37/80\n",
      "29/29 - 0s - loss: 0.0283 - accuracy: 0.9913 - 31ms/epoch - 1ms/step\n",
      "Epoch 38/80\n",
      "29/29 - 0s - loss: 0.0274 - accuracy: 0.9902 - 30ms/epoch - 1ms/step\n",
      "Epoch 39/80\n",
      "29/29 - 0s - loss: 0.0280 - accuracy: 0.9913 - 29ms/epoch - 1ms/step\n",
      "Epoch 40/80\n",
      "29/29 - 0s - loss: 0.0283 - accuracy: 0.9902 - 29ms/epoch - 1ms/step\n",
      "Epoch 41/80\n",
      "29/29 - 0s - loss: 0.0281 - accuracy: 0.9902 - 29ms/epoch - 999us/step\n",
      "Epoch 42/80\n",
      "29/29 - 0s - loss: 0.0278 - accuracy: 0.9891 - 26ms/epoch - 908us/step\n",
      "Epoch 43/80\n",
      "29/29 - 0s - loss: 0.0275 - accuracy: 0.9913 - 27ms/epoch - 942us/step\n",
      "Epoch 44/80\n",
      "29/29 - 0s - loss: 0.0277 - accuracy: 0.9891 - 26ms/epoch - 886us/step\n",
      "Epoch 45/80\n",
      "29/29 - 0s - loss: 0.0277 - accuracy: 0.9891 - 27ms/epoch - 931us/step\n",
      "Epoch 46/80\n",
      "29/29 - 0s - loss: 0.0276 - accuracy: 0.9880 - 26ms/epoch - 886us/step\n",
      "Epoch 47/80\n",
      "29/29 - 0s - loss: 0.0273 - accuracy: 0.9902 - 26ms/epoch - 912us/step\n",
      "Epoch 48/80\n",
      "29/29 - 0s - loss: 0.0273 - accuracy: 0.9891 - 26ms/epoch - 909us/step\n",
      "Epoch 49/80\n",
      "29/29 - 0s - loss: 0.0272 - accuracy: 0.9902 - 26ms/epoch - 891us/step\n",
      "Epoch 50/80\n",
      "29/29 - 0s - loss: 0.0270 - accuracy: 0.9913 - 25ms/epoch - 848us/step\n",
      "Epoch 51/80\n",
      "29/29 - 0s - loss: 0.0280 - accuracy: 0.9891 - 24ms/epoch - 836us/step\n",
      "Epoch 52/80\n",
      "29/29 - 0s - loss: 0.0267 - accuracy: 0.9913 - 24ms/epoch - 841us/step\n",
      "Epoch 53/80\n",
      "29/29 - 0s - loss: 0.0273 - accuracy: 0.9902 - 25ms/epoch - 846us/step\n",
      "Epoch 54/80\n",
      "29/29 - 0s - loss: 0.0268 - accuracy: 0.9902 - 25ms/epoch - 870us/step\n",
      "Epoch 55/80\n",
      "29/29 - 0s - loss: 0.0265 - accuracy: 0.9913 - 24ms/epoch - 844us/step\n",
      "Epoch 56/80\n",
      "29/29 - 0s - loss: 0.0275 - accuracy: 0.9880 - 25ms/epoch - 865us/step\n",
      "Epoch 57/80\n",
      "29/29 - 0s - loss: 0.0270 - accuracy: 0.9891 - 25ms/epoch - 846us/step\n",
      "Epoch 58/80\n",
      "29/29 - 0s - loss: 0.0266 - accuracy: 0.9880 - 28ms/epoch - 949us/step\n",
      "Epoch 59/80\n",
      "29/29 - 0s - loss: 0.0261 - accuracy: 0.9902 - 24ms/epoch - 843us/step\n",
      "Epoch 60/80\n",
      "29/29 - 0s - loss: 0.0262 - accuracy: 0.9913 - 24ms/epoch - 834us/step\n",
      "Epoch 61/80\n",
      "29/29 - 0s - loss: 0.0268 - accuracy: 0.9913 - 25ms/epoch - 861us/step\n",
      "Epoch 62/80\n",
      "29/29 - 0s - loss: 0.0273 - accuracy: 0.9902 - 25ms/epoch - 861us/step\n",
      "Epoch 63/80\n",
      "29/29 - 0s - loss: 0.0274 - accuracy: 0.9891 - 41ms/epoch - 1ms/step\n",
      "Epoch 64/80\n",
      "29/29 - 0s - loss: 0.0257 - accuracy: 0.9902 - 27ms/epoch - 942us/step\n",
      "Epoch 65/80\n",
      "29/29 - 0s - loss: 0.0267 - accuracy: 0.9902 - 27ms/epoch - 939us/step\n",
      "Epoch 66/80\n",
      "29/29 - 0s - loss: 0.0259 - accuracy: 0.9902 - 27ms/epoch - 914us/step\n",
      "Epoch 67/80\n",
      "29/29 - 0s - loss: 0.0257 - accuracy: 0.9891 - 26ms/epoch - 897us/step\n",
      "Epoch 68/80\n",
      "29/29 - 0s - loss: 0.0258 - accuracy: 0.9913 - 29ms/epoch - 990us/step\n",
      "Epoch 69/80\n",
      "29/29 - 0s - loss: 0.0259 - accuracy: 0.9902 - 26ms/epoch - 902us/step\n",
      "Epoch 70/80\n",
      "29/29 - 0s - loss: 0.0258 - accuracy: 0.9902 - 27ms/epoch - 945us/step\n",
      "Epoch 71/80\n",
      "29/29 - 0s - loss: 0.0264 - accuracy: 0.9891 - 25ms/epoch - 866us/step\n",
      "Epoch 72/80\n",
      "29/29 - 0s - loss: 0.0264 - accuracy: 0.9891 - 28ms/epoch - 950us/step\n",
      "Epoch 73/80\n",
      "29/29 - 0s - loss: 0.0256 - accuracy: 0.9891 - 25ms/epoch - 855us/step\n",
      "Epoch 74/80\n",
      "29/29 - 0s - loss: 0.0255 - accuracy: 0.9891 - 25ms/epoch - 861us/step\n",
      "Epoch 75/80\n",
      "29/29 - 0s - loss: 0.0254 - accuracy: 0.9902 - 24ms/epoch - 843us/step\n",
      "Epoch 76/80\n",
      "29/29 - 0s - loss: 0.0254 - accuracy: 0.9913 - 26ms/epoch - 885us/step\n",
      "Epoch 77/80\n",
      "29/29 - 0s - loss: 0.0252 - accuracy: 0.9880 - 24ms/epoch - 835us/step\n",
      "Epoch 78/80\n",
      "29/29 - 0s - loss: 0.0253 - accuracy: 0.9902 - 28ms/epoch - 980us/step\n",
      "Epoch 79/80\n",
      "29/29 - 0s - loss: 0.0251 - accuracy: 0.9902 - 30ms/epoch - 1ms/step\n",
      "Epoch 80/80\n",
      "29/29 - 0s - loss: 0.0253 - accuracy: 0.9902 - 30ms/epoch - 1ms/step\n"
     ]
    },
    {
     "data": {
      "text/plain": [
       "<keras.src.callbacks.History at 0x19dff07ce90>"
      ]
     },
     "execution_count": 65,
     "metadata": {},
     "output_type": "execute_result"
    }
   ],
   "source": [
    "## train the model\n",
    "\n",
    "model.fit(scaled_X_train,y_train,epochs=80,verbose=2)"
   ]
  },
  {
   "cell_type": "markdown",
   "id": "d37c2916",
   "metadata": {},
   "source": [
    "## Predicting New Unseen Data\n",
    "\n",
    "Let's see how we did by predicting on **new data**. Remember, our model has **never** seen the test data that we scaled previously! This process is the exact same process you would use on totally brand new data. For example , a brand new bank note that you just analyzed ."
   ]
  },
  {
   "cell_type": "code",
   "execution_count": 66,
   "id": "6f475818",
   "metadata": {},
   "outputs": [],
   "source": [
    "##prediction of model on test data\n",
    "from sklearn.metrics import confusion_matrix,classification_report"
   ]
  },
  {
   "cell_type": "code",
   "execution_count": 67,
   "id": "f581f7f4",
   "metadata": {},
   "outputs": [
    {
     "name": "stdout",
     "output_type": "stream",
     "text": [
      "15/15 [==============================] - 0s 2ms/step\n"
     ]
    }
   ],
   "source": [
    "prediction = model.predict(scaled_X_test)"
   ]
  },
  {
   "cell_type": "code",
   "execution_count": 68,
   "id": "3b5626b0",
   "metadata": {},
   "outputs": [],
   "source": [
    "# Convert probability predictions to class labels\n",
    "\n",
    "prediction_classes =  np.argsort(prediction, axis=-1)"
   ]
  },
  {
   "cell_type": "markdown",
   "id": "4dbb336b",
   "metadata": {},
   "source": [
    "## Evaluating Model Performance\n",
    "\n",
    "So how well did we do? How do we actually measure \"well\". Is 95% accuracy good enough? It all depends on the situation. Also we need to take into account things like recall and precision. Make sure to watch the video discussion on classification evaluation before running this code!"
   ]
  },
  {
   "cell_type": "code",
   "execution_count": 69,
   "id": "1c528722",
   "metadata": {},
   "outputs": [
    {
     "data": {
      "text/plain": [
       "['loss', 'accuracy']"
      ]
     },
     "execution_count": 69,
     "metadata": {},
     "output_type": "execute_result"
    }
   ],
   "source": [
    "model.metrics_names"
   ]
  },
  {
   "cell_type": "code",
   "execution_count": 70,
   "id": "aa670938",
   "metadata": {},
   "outputs": [],
   "source": [
    "from sklearn.metrics import confusion_matrix,classification_report"
   ]
  },
  {
   "cell_type": "code",
   "execution_count": 71,
   "id": "cda88048",
   "metadata": {},
   "outputs": [
    {
     "name": "stdout",
     "output_type": "stream",
     "text": [
      "15/15 [==============================] - 0s 751us/step\n"
     ]
    }
   ],
   "source": [
    "prediction = model.predict(scaled_X_test)"
   ]
  },
  {
   "cell_type": "code",
   "execution_count": 72,
   "id": "cd57e5a7",
   "metadata": {},
   "outputs": [
    {
     "data": {
      "text/plain": [
       "array([[257,   0],\n",
       "       [196,   0]], dtype=int64)"
      ]
     },
     "execution_count": 72,
     "metadata": {},
     "output_type": "execute_result"
    }
   ],
   "source": [
    "confusion_matrix(y_test, prediction_classes)"
   ]
  },
  {
   "cell_type": "code",
   "execution_count": 73,
   "id": "d343aa8f",
   "metadata": {},
   "outputs": [
    {
     "name": "stdout",
     "output_type": "stream",
     "text": [
      "              precision    recall  f1-score   support\n",
      "\n",
      "         0.0       0.57      1.00      0.72       257\n",
      "         1.0       0.00      0.00      0.00       196\n",
      "\n",
      "    accuracy                           0.57       453\n",
      "   macro avg       0.28      0.50      0.36       453\n",
      "weighted avg       0.32      0.57      0.41       453\n",
      "\n"
     ]
    }
   ],
   "source": [
    "print(classification_report(y_test,prediction_classes))"
   ]
  },
  {
   "cell_type": "markdown",
   "id": "c24270e0",
   "metadata": {},
   "source": [
    "## Saving and Loading Models\n",
    "\n",
    "Now that we have a model trained, let's see how we can save and load it."
   ]
  },
  {
   "cell_type": "code",
   "execution_count": 74,
   "id": "c90344f2",
   "metadata": {},
   "outputs": [],
   "source": [
    "### saving the model\n",
    "\n",
    "model.save(\"mysupermodel.h5\")"
   ]
  },
  {
   "cell_type": "code",
   "execution_count": 75,
   "id": "35dab775",
   "metadata": {},
   "outputs": [],
   "source": [
    "from keras.models import load_model"
   ]
  },
  {
   "cell_type": "code",
   "execution_count": 76,
   "id": "91e4e9cb",
   "metadata": {},
   "outputs": [],
   "source": [
    "newmodel= load_model(\"mysupermodel.h5\")"
   ]
  },
  {
   "cell_type": "code",
   "execution_count": 78,
   "id": "98e82b94",
   "metadata": {},
   "outputs": [
    {
     "name": "stdout",
     "output_type": "stream",
     "text": [
      "15/15 [==============================] - 0s 744us/step\n"
     ]
    },
    {
     "data": {
      "text/plain": [
       "array([[4.78097127e-06],\n",
       "       [3.49479504e-02],\n",
       "       [8.81477911e-03],\n",
       "       [1.10911147e-08],\n",
       "       [1.15981959e-06],\n",
       "       [7.10971608e-06],\n",
       "       [3.03939009e-06],\n",
       "       [1.54312190e-07],\n",
       "       [2.25313829e-06],\n",
       "       [4.25976793e-07],\n",
       "       [8.34817350e-01],\n",
       "       [9.98539031e-01],\n",
       "       [3.08147605e-06],\n",
       "       [9.91914451e-01],\n",
       "       [1.63674940e-05],\n",
       "       [7.45653212e-01],\n",
       "       [9.94523346e-01],\n",
       "       [9.95943606e-01],\n",
       "       [9.32354212e-01],\n",
       "       [8.62678051e-01],\n",
       "       [6.06920764e-07],\n",
       "       [6.93398249e-07],\n",
       "       [9.34134543e-01],\n",
       "       [8.18795911e-08],\n",
       "       [9.99522746e-01],\n",
       "       [2.44424882e-07],\n",
       "       [1.58538409e-08],\n",
       "       [9.96140420e-01],\n",
       "       [2.39867542e-10],\n",
       "       [1.36786182e-09],\n",
       "       [9.97907639e-01],\n",
       "       [3.68038900e-06],\n",
       "       [4.61960663e-05],\n",
       "       [9.99352038e-01],\n",
       "       [9.99241829e-01],\n",
       "       [3.76028630e-08],\n",
       "       [7.41163313e-01],\n",
       "       [9.97127831e-01],\n",
       "       [9.98694539e-01],\n",
       "       [1.25929751e-06],\n",
       "       [3.98871265e-07],\n",
       "       [9.97776985e-01],\n",
       "       [9.94361699e-01],\n",
       "       [1.02019180e-06],\n",
       "       [9.99498069e-01],\n",
       "       [9.94380236e-01],\n",
       "       [9.99351442e-01],\n",
       "       [1.46947568e-04],\n",
       "       [3.37384481e-05],\n",
       "       [8.78708780e-01],\n",
       "       [1.46721301e-04],\n",
       "       [4.65500314e-08],\n",
       "       [4.69528732e-06],\n",
       "       [1.10574916e-07],\n",
       "       [4.25590624e-05],\n",
       "       [9.86859500e-01],\n",
       "       [1.39219264e-05],\n",
       "       [1.05551141e-08],\n",
       "       [8.65014590e-05],\n",
       "       [8.59776534e-08],\n",
       "       [9.99483287e-01],\n",
       "       [1.22547397e-06],\n",
       "       [9.86042023e-01],\n",
       "       [3.41887052e-09],\n",
       "       [1.29988763e-07],\n",
       "       [3.56378855e-08],\n",
       "       [3.23803221e-07],\n",
       "       [7.87651857e-07],\n",
       "       [1.39341340e-03],\n",
       "       [9.89906967e-01],\n",
       "       [8.86218727e-01],\n",
       "       [1.54626559e-06],\n",
       "       [9.86456215e-01],\n",
       "       [4.79101914e-09],\n",
       "       [9.78980482e-01],\n",
       "       [6.64121866e-01],\n",
       "       [3.74350639e-05],\n",
       "       [9.98556018e-01],\n",
       "       [9.98497427e-01],\n",
       "       [9.51686859e-01],\n",
       "       [9.65753436e-01],\n",
       "       [2.30381973e-02],\n",
       "       [9.92723703e-01],\n",
       "       [1.02267768e-06],\n",
       "       [1.56513173e-02],\n",
       "       [2.96485858e-09],\n",
       "       [1.22720209e-07],\n",
       "       [9.99500573e-01],\n",
       "       [9.09733772e-01],\n",
       "       [3.80568935e-07],\n",
       "       [1.04862494e-07],\n",
       "       [4.12693396e-07],\n",
       "       [9.31647897e-01],\n",
       "       [9.97588456e-01],\n",
       "       [1.01200953e-06],\n",
       "       [9.75898027e-01],\n",
       "       [9.99501050e-01],\n",
       "       [1.35966635e-03],\n",
       "       [8.47428851e-07],\n",
       "       [3.38385173e-04],\n",
       "       [9.94057178e-01],\n",
       "       [3.61480193e-06],\n",
       "       [6.05603555e-06],\n",
       "       [2.99976045e-06],\n",
       "       [9.99364614e-01],\n",
       "       [6.63167086e-08],\n",
       "       [1.91543745e-06],\n",
       "       [9.83923018e-01],\n",
       "       [9.92239296e-01],\n",
       "       [7.84777164e-01],\n",
       "       [9.98941123e-01],\n",
       "       [9.59133983e-01],\n",
       "       [1.98311589e-08],\n",
       "       [9.99291599e-01],\n",
       "       [9.98485684e-01],\n",
       "       [9.99308109e-01],\n",
       "       [3.47623530e-09],\n",
       "       [9.99624729e-01],\n",
       "       [9.99690473e-01],\n",
       "       [4.31030543e-07],\n",
       "       [8.17025304e-01],\n",
       "       [8.41391284e-06],\n",
       "       [8.47849905e-01],\n",
       "       [2.43492320e-08],\n",
       "       [8.71872365e-01],\n",
       "       [1.46149614e-06],\n",
       "       [9.99028981e-01],\n",
       "       [9.80250120e-01],\n",
       "       [2.99227736e-06],\n",
       "       [9.98630345e-01],\n",
       "       [9.99199569e-01],\n",
       "       [5.60594202e-08],\n",
       "       [6.66728556e-06],\n",
       "       [1.91215495e-05],\n",
       "       [3.35183117e-08],\n",
       "       [9.84017388e-05],\n",
       "       [9.98602927e-01],\n",
       "       [4.98668173e-09],\n",
       "       [1.12442203e-05],\n",
       "       [2.95545280e-01],\n",
       "       [1.01842261e-06],\n",
       "       [3.33332806e-04],\n",
       "       [9.98058856e-01],\n",
       "       [1.10418287e-05],\n",
       "       [9.76972282e-01],\n",
       "       [2.61097312e-01],\n",
       "       [8.97342145e-01],\n",
       "       [9.91614997e-01],\n",
       "       [9.96867537e-01],\n",
       "       [2.08877537e-07],\n",
       "       [9.09938693e-01],\n",
       "       [9.91875589e-01],\n",
       "       [9.99664247e-01],\n",
       "       [1.65947200e-09],\n",
       "       [9.71517026e-01],\n",
       "       [5.13154212e-08],\n",
       "       [9.93454635e-01],\n",
       "       [1.51012512e-06],\n",
       "       [7.87822387e-07],\n",
       "       [1.47565402e-06],\n",
       "       [9.99543071e-01],\n",
       "       [9.99074519e-01],\n",
       "       [9.99285460e-01],\n",
       "       [9.95793998e-01],\n",
       "       [9.89630759e-01],\n",
       "       [5.42863781e-08],\n",
       "       [9.98999834e-01],\n",
       "       [2.19740514e-07],\n",
       "       [1.17060868e-08],\n",
       "       [2.33806604e-05],\n",
       "       [2.97458423e-03],\n",
       "       [2.08419095e-07],\n",
       "       [3.55183602e-06],\n",
       "       [9.99407828e-01],\n",
       "       [2.22682479e-06],\n",
       "       [3.54246549e-06],\n",
       "       [9.99010682e-01],\n",
       "       [9.99577582e-01],\n",
       "       [1.71962311e-05],\n",
       "       [2.40688145e-08],\n",
       "       [1.38255311e-02],\n",
       "       [9.69542100e-08],\n",
       "       [9.99237478e-01],\n",
       "       [7.08376263e-07],\n",
       "       [9.99448180e-01],\n",
       "       [9.68928333e-08],\n",
       "       [9.98996854e-01],\n",
       "       [9.98651564e-01],\n",
       "       [4.34327880e-08],\n",
       "       [2.72529036e-07],\n",
       "       [9.95188951e-01],\n",
       "       [1.92099904e-07],\n",
       "       [1.56281603e-05],\n",
       "       [9.99020636e-01],\n",
       "       [9.98690128e-01],\n",
       "       [9.93240416e-01],\n",
       "       [9.87422287e-01],\n",
       "       [4.77075992e-06],\n",
       "       [3.43597603e-05],\n",
       "       [9.99255061e-01],\n",
       "       [9.98220563e-01],\n",
       "       [9.99299645e-01],\n",
       "       [8.10590336e-06],\n",
       "       [6.83429207e-08],\n",
       "       [9.99125898e-01],\n",
       "       [9.98972237e-01],\n",
       "       [9.98678327e-01],\n",
       "       [9.95839298e-01],\n",
       "       [2.28708377e-05],\n",
       "       [1.02066565e-06],\n",
       "       [2.47801647e-01],\n",
       "       [1.40519667e-08],\n",
       "       [2.05047741e-06],\n",
       "       [4.25379840e-04],\n",
       "       [5.47857448e-09],\n",
       "       [6.77637502e-08],\n",
       "       [6.64121866e-01],\n",
       "       [5.30552143e-06],\n",
       "       [9.99217451e-01],\n",
       "       [9.80019629e-01],\n",
       "       [9.98879373e-01],\n",
       "       [9.98563051e-01],\n",
       "       [9.99229312e-01],\n",
       "       [5.64948132e-05],\n",
       "       [9.91963089e-01],\n",
       "       [1.19324591e-06],\n",
       "       [2.57562522e-08],\n",
       "       [9.70903158e-01],\n",
       "       [9.80005085e-01],\n",
       "       [9.98336971e-01],\n",
       "       [9.98953998e-01],\n",
       "       [4.54179627e-07],\n",
       "       [8.68420303e-01],\n",
       "       [7.10606471e-08],\n",
       "       [8.34642708e-01],\n",
       "       [9.99448955e-01],\n",
       "       [9.87233222e-01],\n",
       "       [9.99144495e-01],\n",
       "       [9.72380008e-07],\n",
       "       [2.40619593e-05],\n",
       "       [2.82387889e-04],\n",
       "       [9.99382198e-01],\n",
       "       [3.68800247e-05],\n",
       "       [9.99328017e-01],\n",
       "       [9.80915487e-01],\n",
       "       [9.99153733e-01],\n",
       "       [1.29768807e-06],\n",
       "       [3.63755987e-07],\n",
       "       [2.35375541e-08],\n",
       "       [4.32031593e-05],\n",
       "       [1.09521969e-09],\n",
       "       [2.52193900e-06],\n",
       "       [9.99478936e-01],\n",
       "       [1.55864134e-02],\n",
       "       [1.60273209e-01],\n",
       "       [1.91736635e-05],\n",
       "       [5.96932693e-07],\n",
       "       [7.04782622e-07],\n",
       "       [9.98048007e-01],\n",
       "       [9.99265134e-01],\n",
       "       [2.26455795e-05],\n",
       "       [2.70076003e-03],\n",
       "       [4.35493803e-07],\n",
       "       [9.96100485e-01],\n",
       "       [9.70215380e-01],\n",
       "       [6.79427956e-07],\n",
       "       [9.98645008e-01],\n",
       "       [1.40357554e-06],\n",
       "       [9.99465764e-01],\n",
       "       [9.81292307e-01],\n",
       "       [9.91176486e-01],\n",
       "       [8.71773005e-01],\n",
       "       [5.33705344e-04],\n",
       "       [3.49457823e-02],\n",
       "       [4.20977884e-08],\n",
       "       [1.93966201e-07],\n",
       "       [3.09315112e-07],\n",
       "       [9.94991660e-01],\n",
       "       [7.38084154e-08],\n",
       "       [2.88006486e-05],\n",
       "       [9.99370575e-01],\n",
       "       [1.33749611e-09],\n",
       "       [9.99162257e-01],\n",
       "       [6.67834428e-08],\n",
       "       [8.21172932e-07],\n",
       "       [9.98925865e-01],\n",
       "       [2.29337918e-08],\n",
       "       [6.22575044e-07],\n",
       "       [2.80672623e-07],\n",
       "       [1.43759351e-07],\n",
       "       [4.06379922e-06],\n",
       "       [9.99603033e-01],\n",
       "       [9.99456406e-01],\n",
       "       [2.66315310e-05],\n",
       "       [9.96660233e-01],\n",
       "       [8.36009661e-08],\n",
       "       [9.51755822e-01],\n",
       "       [9.85847354e-01],\n",
       "       [1.29764455e-09],\n",
       "       [2.47789055e-01],\n",
       "       [9.73897585e-08],\n",
       "       [1.64486764e-07],\n",
       "       [9.20405228e-07],\n",
       "       [8.71738052e-07],\n",
       "       [4.95971733e-07],\n",
       "       [9.99628961e-01],\n",
       "       [9.97659445e-01],\n",
       "       [9.99015808e-01],\n",
       "       [6.06453284e-07],\n",
       "       [3.43294548e-09],\n",
       "       [9.71007466e-01],\n",
       "       [8.93893719e-01],\n",
       "       [8.44530064e-07],\n",
       "       [1.71199117e-05],\n",
       "       [2.63192965e-06],\n",
       "       [2.56813837e-09],\n",
       "       [1.44490728e-03],\n",
       "       [1.67671931e-06],\n",
       "       [9.97636557e-01],\n",
       "       [2.43581071e-05],\n",
       "       [9.98915076e-01],\n",
       "       [8.77713323e-01],\n",
       "       [9.96187150e-01],\n",
       "       [1.24233906e-04],\n",
       "       [3.39670208e-07],\n",
       "       [8.13860606e-06],\n",
       "       [1.81264018e-10],\n",
       "       [9.81482446e-01],\n",
       "       [1.55474572e-05],\n",
       "       [4.03470951e-10],\n",
       "       [3.00423551e-07],\n",
       "       [2.57772217e-06],\n",
       "       [2.01357249e-03],\n",
       "       [9.34247626e-04],\n",
       "       [1.90068866e-04],\n",
       "       [9.99201715e-01],\n",
       "       [1.91560388e-02],\n",
       "       [9.47145104e-01],\n",
       "       [9.90504682e-01],\n",
       "       [9.29748476e-01],\n",
       "       [9.98737514e-01],\n",
       "       [2.71360932e-07],\n",
       "       [9.49055433e-01],\n",
       "       [9.99521375e-01],\n",
       "       [2.81749590e-06],\n",
       "       [9.98600960e-01],\n",
       "       [9.15988266e-01],\n",
       "       [1.03655439e-04],\n",
       "       [9.68755776e-05],\n",
       "       [9.96874928e-01],\n",
       "       [2.25457188e-06],\n",
       "       [2.08918181e-07],\n",
       "       [9.55079377e-01],\n",
       "       [1.11813548e-04],\n",
       "       [9.98812258e-01],\n",
       "       [1.97118784e-08],\n",
       "       [9.90360677e-01],\n",
       "       [9.96980846e-01],\n",
       "       [4.85666760e-08],\n",
       "       [5.61009230e-08],\n",
       "       [9.98886347e-01],\n",
       "       [1.79579492e-05],\n",
       "       [8.48788477e-05],\n",
       "       [4.01203142e-05],\n",
       "       [2.00706918e-09],\n",
       "       [8.00782196e-09],\n",
       "       [6.43606995e-07],\n",
       "       [9.98940647e-01],\n",
       "       [8.41331428e-07],\n",
       "       [3.24301254e-06],\n",
       "       [9.99243319e-01],\n",
       "       [5.48701942e-01],\n",
       "       [1.25231304e-06],\n",
       "       [1.98702473e-05],\n",
       "       [3.86953758e-07],\n",
       "       [9.95719850e-01],\n",
       "       [9.96494472e-01],\n",
       "       [3.30970579e-07],\n",
       "       [9.99029517e-01],\n",
       "       [1.67689041e-06],\n",
       "       [9.99215066e-01],\n",
       "       [9.42137897e-01],\n",
       "       [9.55232739e-01],\n",
       "       [8.93709002e-05],\n",
       "       [9.96988595e-01],\n",
       "       [9.73887265e-01],\n",
       "       [3.47832356e-05],\n",
       "       [9.99542475e-01],\n",
       "       [9.99177814e-01],\n",
       "       [6.79004661e-05],\n",
       "       [9.93495226e-01],\n",
       "       [6.33714023e-07],\n",
       "       [5.16381397e-06],\n",
       "       [1.92419699e-04],\n",
       "       [9.99235868e-01],\n",
       "       [9.98758912e-01],\n",
       "       [9.33598399e-01],\n",
       "       [4.66254306e-07],\n",
       "       [1.08376616e-06],\n",
       "       [1.06176316e-07],\n",
       "       [1.26344526e-06],\n",
       "       [9.99130130e-01],\n",
       "       [1.95571943e-06],\n",
       "       [9.79845041e-08],\n",
       "       [9.99100685e-01],\n",
       "       [9.86121178e-01],\n",
       "       [9.15494025e-01],\n",
       "       [9.98300195e-01],\n",
       "       [4.82475880e-05],\n",
       "       [9.96154070e-01],\n",
       "       [1.41189378e-06],\n",
       "       [1.02764416e-05],\n",
       "       [9.96481955e-01],\n",
       "       [9.95214820e-01],\n",
       "       [9.96449944e-06],\n",
       "       [9.98672605e-01],\n",
       "       [8.47797855e-06],\n",
       "       [9.91307378e-01],\n",
       "       [9.40145981e-07],\n",
       "       [3.44877776e-07],\n",
       "       [1.82952689e-07],\n",
       "       [9.99507725e-01],\n",
       "       [8.47426713e-01],\n",
       "       [1.33894407e-08],\n",
       "       [1.76844513e-03],\n",
       "       [2.95339887e-05],\n",
       "       [9.99342680e-01],\n",
       "       [1.77169355e-07],\n",
       "       [1.80181007e-06],\n",
       "       [9.96506870e-01],\n",
       "       [8.42009129e-08],\n",
       "       [4.66166696e-08],\n",
       "       [4.00104655e-05],\n",
       "       [6.26763637e-08],\n",
       "       [9.98181462e-01],\n",
       "       [2.52414178e-08],\n",
       "       [9.97920156e-01],\n",
       "       [7.95265312e-11],\n",
       "       [2.47789055e-01],\n",
       "       [9.98717189e-01],\n",
       "       [2.78057172e-07],\n",
       "       [2.51506481e-06],\n",
       "       [9.18573392e-07],\n",
       "       [1.20887050e-10],\n",
       "       [1.28754063e-10],\n",
       "       [2.58290214e-07],\n",
       "       [9.98507082e-01],\n",
       "       [6.44054532e-01],\n",
       "       [2.79679407e-05],\n",
       "       [3.68213659e-05],\n",
       "       [2.94161737e-07],\n",
       "       [1.33173736e-10],\n",
       "       [1.38255311e-02]], dtype=float32)"
      ]
     },
     "execution_count": 78,
     "metadata": {},
     "output_type": "execute_result"
    }
   ],
   "source": [
    "newmodel.predict(scaled_X_test)"
   ]
  },
  {
   "cell_type": "code",
   "execution_count": null,
   "id": "cedd8e4e",
   "metadata": {},
   "outputs": [],
   "source": []
  }
 ],
 "metadata": {
  "kernelspec": {
   "display_name": "Python 3 (ipykernel)",
   "language": "python",
   "name": "python3"
  },
  "language_info": {
   "codemirror_mode": {
    "name": "ipython",
    "version": 3
   },
   "file_extension": ".py",
   "mimetype": "text/x-python",
   "name": "python",
   "nbconvert_exporter": "python",
   "pygments_lexer": "ipython3",
   "version": "3.11.5"
  }
 },
 "nbformat": 4,
 "nbformat_minor": 5
}
